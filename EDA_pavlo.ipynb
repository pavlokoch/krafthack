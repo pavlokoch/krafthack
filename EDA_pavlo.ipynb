{
 "cells": [
  {
   "cell_type": "markdown",
   "metadata": {},
   "source": [
    "# EDA Pavlo"
   ]
  },
  {
   "cell_type": "code",
   "execution_count": 99,
   "metadata": {},
   "outputs": [
    {
     "name": "stdout",
     "output_type": "stream",
     "text": [
      "Collecting pyarrow\n",
      "  Downloading pyarrow-7.0.0-cp39-cp39-win_amd64.whl (16.1 MB)\n",
      "     ---------------------------------------- 16.1/16.1 MB 4.4 MB/s eta 0:00:00\n",
      "Requirement already satisfied: numpy>=1.16.6 in c:\\users\\pkochkin\\appdata\\local\\packages\\pythonsoftwarefoundation.python.3.9_qbz5n2kfra8p0\\localcache\\local-packages\\python39\\site-packages (from pyarrow) (1.22.2)\n",
      "Installing collected packages: pyarrow\n",
      "Successfully installed pyarrow-7.0.0\n"
     ]
    },
    {
     "name": "stderr",
     "output_type": "stream",
     "text": [
      "  WARNING: The script plasma_store.exe is installed in 'C:\\Users\\pkochkin\\AppData\\Local\\Packages\\PythonSoftwareFoundation.Python.3.9_qbz5n2kfra8p0\\LocalCache\\local-packages\\Python39\\Scripts' which is not on PATH.\n",
      "  Consider adding this directory to PATH or, if you prefer to suppress this warning, use --no-warn-script-location.\n"
     ]
    }
   ],
   "source": [
    "!pip install pyarrow"
   ]
  },
  {
   "cell_type": "markdown",
   "metadata": {},
   "source": [
    "## Load data"
   ]
  },
  {
   "cell_type": "code",
   "execution_count": 100,
   "metadata": {},
   "outputs": [
    {
     "name": "stdout",
     "output_type": "stream",
     "text": [
      "Dataset shape (1874087, 22)\n"
     ]
    },
    {
     "data": {
      "text/html": [
       "<div>\n",
       "<style scoped>\n",
       "    .dataframe tbody tr th:only-of-type {\n",
       "        vertical-align: middle;\n",
       "    }\n",
       "\n",
       "    .dataframe tbody tr th {\n",
       "        vertical-align: top;\n",
       "    }\n",
       "\n",
       "    .dataframe thead th {\n",
       "        text-align: right;\n",
       "    }\n",
       "</style>\n",
       "<table border=\"1\" class=\"dataframe\">\n",
       "  <thead>\n",
       "    <tr style=\"text-align: right;\">\n",
       "      <th></th>\n",
       "      <th>Unit_4_Power</th>\n",
       "      <th>Unit_4_Reactive Power</th>\n",
       "      <th>Turbine_Guide Vane Opening</th>\n",
       "      <th>Turbine_Pressure Drafttube</th>\n",
       "      <th>Turbine_Pressure Spiral Casing</th>\n",
       "      <th>Turbine_Rotational Speed</th>\n",
       "      <th>mode</th>\n",
       "      <th>Bolt_1_Steel tmp</th>\n",
       "      <th>Bolt_1_Tensile</th>\n",
       "      <th>Bolt_2_Tensile</th>\n",
       "      <th>...</th>\n",
       "      <th>Bolt_5_Tensile</th>\n",
       "      <th>Bolt_6_Tensile</th>\n",
       "      <th>Bolt_1_Torsion</th>\n",
       "      <th>Bolt_2_Torsion</th>\n",
       "      <th>Bolt_3_Torsion</th>\n",
       "      <th>Bolt_4_Torsion</th>\n",
       "      <th>Bolt_5_Torsion</th>\n",
       "      <th>Bolt_6_Torsion</th>\n",
       "      <th>lower_bearing_vib_vrt</th>\n",
       "      <th>turbine_bearing_vib_vrt</th>\n",
       "    </tr>\n",
       "    <tr>\n",
       "      <th>timepoints</th>\n",
       "      <th></th>\n",
       "      <th></th>\n",
       "      <th></th>\n",
       "      <th></th>\n",
       "      <th></th>\n",
       "      <th></th>\n",
       "      <th></th>\n",
       "      <th></th>\n",
       "      <th></th>\n",
       "      <th></th>\n",
       "      <th></th>\n",
       "      <th></th>\n",
       "      <th></th>\n",
       "      <th></th>\n",
       "      <th></th>\n",
       "      <th></th>\n",
       "      <th></th>\n",
       "      <th></th>\n",
       "      <th></th>\n",
       "      <th></th>\n",
       "      <th></th>\n",
       "    </tr>\n",
       "  </thead>\n",
       "  <tbody>\n",
       "    <tr>\n",
       "      <th>1971-01-25 11:06:44</th>\n",
       "      <td>308.716025</td>\n",
       "      <td>3.974309</td>\n",
       "      <td>94.425666</td>\n",
       "      <td>157.927905</td>\n",
       "      <td>5280.929965</td>\n",
       "      <td>108.057498</td>\n",
       "      <td>operation</td>\n",
       "      <td>4.193937</td>\n",
       "      <td>1637.386115</td>\n",
       "      <td>1504.557822</td>\n",
       "      <td>...</td>\n",
       "      <td>1640.704071</td>\n",
       "      <td>1690.014705</td>\n",
       "      <td>183.204777</td>\n",
       "      <td>178.082932</td>\n",
       "      <td>145.759475</td>\n",
       "      <td>225.351989</td>\n",
       "      <td>300.667011</td>\n",
       "      <td>160.949816</td>\n",
       "      <td>0.159366</td>\n",
       "      <td>0.491265</td>\n",
       "    </tr>\n",
       "    <tr>\n",
       "      <th>1971-01-25 11:06:45</th>\n",
       "      <td>308.746393</td>\n",
       "      <td>4.103262</td>\n",
       "      <td>94.429003</td>\n",
       "      <td>157.974925</td>\n",
       "      <td>5280.633358</td>\n",
       "      <td>108.057492</td>\n",
       "      <td>operation</td>\n",
       "      <td>4.193254</td>\n",
       "      <td>1637.365865</td>\n",
       "      <td>1504.546091</td>\n",
       "      <td>...</td>\n",
       "      <td>1640.711250</td>\n",
       "      <td>1690.017029</td>\n",
       "      <td>183.203293</td>\n",
       "      <td>178.082287</td>\n",
       "      <td>145.766584</td>\n",
       "      <td>225.348279</td>\n",
       "      <td>300.674243</td>\n",
       "      <td>160.947868</td>\n",
       "      <td>0.155962</td>\n",
       "      <td>0.497242</td>\n",
       "    </tr>\n",
       "    <tr>\n",
       "      <th>1971-01-25 11:06:46</th>\n",
       "      <td>308.776762</td>\n",
       "      <td>4.472929</td>\n",
       "      <td>94.432340</td>\n",
       "      <td>158.021945</td>\n",
       "      <td>5280.336751</td>\n",
       "      <td>108.057486</td>\n",
       "      <td>operation</td>\n",
       "      <td>4.193261</td>\n",
       "      <td>1637.384133</td>\n",
       "      <td>1504.538696</td>\n",
       "      <td>...</td>\n",
       "      <td>1640.699142</td>\n",
       "      <td>1690.002008</td>\n",
       "      <td>183.212397</td>\n",
       "      <td>178.081678</td>\n",
       "      <td>145.764007</td>\n",
       "      <td>225.354785</td>\n",
       "      <td>300.674078</td>\n",
       "      <td>160.947644</td>\n",
       "      <td>0.141150</td>\n",
       "      <td>0.501525</td>\n",
       "    </tr>\n",
       "    <tr>\n",
       "      <th>1971-01-25 11:06:47</th>\n",
       "      <td>308.807131</td>\n",
       "      <td>4.842597</td>\n",
       "      <td>94.435677</td>\n",
       "      <td>158.068966</td>\n",
       "      <td>5280.040144</td>\n",
       "      <td>108.057479</td>\n",
       "      <td>operation</td>\n",
       "      <td>4.192795</td>\n",
       "      <td>1637.357141</td>\n",
       "      <td>1504.531582</td>\n",
       "      <td>...</td>\n",
       "      <td>1640.685782</td>\n",
       "      <td>1689.995135</td>\n",
       "      <td>183.212669</td>\n",
       "      <td>178.080734</td>\n",
       "      <td>145.763103</td>\n",
       "      <td>225.355483</td>\n",
       "      <td>300.675584</td>\n",
       "      <td>160.944036</td>\n",
       "      <td>0.160915</td>\n",
       "      <td>0.508167</td>\n",
       "    </tr>\n",
       "    <tr>\n",
       "      <th>1971-01-25 11:06:48</th>\n",
       "      <td>308.837499</td>\n",
       "      <td>5.212264</td>\n",
       "      <td>94.439014</td>\n",
       "      <td>158.115137</td>\n",
       "      <td>5279.835631</td>\n",
       "      <td>108.057473</td>\n",
       "      <td>operation</td>\n",
       "      <td>4.192640</td>\n",
       "      <td>1637.344985</td>\n",
       "      <td>1504.525065</td>\n",
       "      <td>...</td>\n",
       "      <td>1640.698392</td>\n",
       "      <td>1690.004759</td>\n",
       "      <td>183.209714</td>\n",
       "      <td>178.084189</td>\n",
       "      <td>145.766948</td>\n",
       "      <td>225.356568</td>\n",
       "      <td>300.675411</td>\n",
       "      <td>160.947503</td>\n",
       "      <td>0.163011</td>\n",
       "      <td>0.512094</td>\n",
       "    </tr>\n",
       "  </tbody>\n",
       "</table>\n",
       "<p>5 rows × 22 columns</p>\n",
       "</div>"
      ],
      "text/plain": [
       "                     Unit_4_Power  Unit_4_Reactive Power  \\\n",
       "timepoints                                                 \n",
       "1971-01-25 11:06:44    308.716025               3.974309   \n",
       "1971-01-25 11:06:45    308.746393               4.103262   \n",
       "1971-01-25 11:06:46    308.776762               4.472929   \n",
       "1971-01-25 11:06:47    308.807131               4.842597   \n",
       "1971-01-25 11:06:48    308.837499               5.212264   \n",
       "\n",
       "                     Turbine_Guide Vane Opening  Turbine_Pressure Drafttube  \\\n",
       "timepoints                                                                    \n",
       "1971-01-25 11:06:44                   94.425666                  157.927905   \n",
       "1971-01-25 11:06:45                   94.429003                  157.974925   \n",
       "1971-01-25 11:06:46                   94.432340                  158.021945   \n",
       "1971-01-25 11:06:47                   94.435677                  158.068966   \n",
       "1971-01-25 11:06:48                   94.439014                  158.115137   \n",
       "\n",
       "                     Turbine_Pressure Spiral Casing  Turbine_Rotational Speed  \\\n",
       "timepoints                                                                      \n",
       "1971-01-25 11:06:44                     5280.929965                108.057498   \n",
       "1971-01-25 11:06:45                     5280.633358                108.057492   \n",
       "1971-01-25 11:06:46                     5280.336751                108.057486   \n",
       "1971-01-25 11:06:47                     5280.040144                108.057479   \n",
       "1971-01-25 11:06:48                     5279.835631                108.057473   \n",
       "\n",
       "                          mode  Bolt_1_Steel tmp  Bolt_1_Tensile  \\\n",
       "timepoints                                                         \n",
       "1971-01-25 11:06:44  operation          4.193937     1637.386115   \n",
       "1971-01-25 11:06:45  operation          4.193254     1637.365865   \n",
       "1971-01-25 11:06:46  operation          4.193261     1637.384133   \n",
       "1971-01-25 11:06:47  operation          4.192795     1637.357141   \n",
       "1971-01-25 11:06:48  operation          4.192640     1637.344985   \n",
       "\n",
       "                     Bolt_2_Tensile  ...  Bolt_5_Tensile  Bolt_6_Tensile  \\\n",
       "timepoints                           ...                                   \n",
       "1971-01-25 11:06:44     1504.557822  ...     1640.704071     1690.014705   \n",
       "1971-01-25 11:06:45     1504.546091  ...     1640.711250     1690.017029   \n",
       "1971-01-25 11:06:46     1504.538696  ...     1640.699142     1690.002008   \n",
       "1971-01-25 11:06:47     1504.531582  ...     1640.685782     1689.995135   \n",
       "1971-01-25 11:06:48     1504.525065  ...     1640.698392     1690.004759   \n",
       "\n",
       "                     Bolt_1_Torsion  Bolt_2_Torsion  Bolt_3_Torsion  \\\n",
       "timepoints                                                            \n",
       "1971-01-25 11:06:44      183.204777      178.082932      145.759475   \n",
       "1971-01-25 11:06:45      183.203293      178.082287      145.766584   \n",
       "1971-01-25 11:06:46      183.212397      178.081678      145.764007   \n",
       "1971-01-25 11:06:47      183.212669      178.080734      145.763103   \n",
       "1971-01-25 11:06:48      183.209714      178.084189      145.766948   \n",
       "\n",
       "                     Bolt_4_Torsion  Bolt_5_Torsion  Bolt_6_Torsion  \\\n",
       "timepoints                                                            \n",
       "1971-01-25 11:06:44      225.351989      300.667011      160.949816   \n",
       "1971-01-25 11:06:45      225.348279      300.674243      160.947868   \n",
       "1971-01-25 11:06:46      225.354785      300.674078      160.947644   \n",
       "1971-01-25 11:06:47      225.355483      300.675584      160.944036   \n",
       "1971-01-25 11:06:48      225.356568      300.675411      160.947503   \n",
       "\n",
       "                     lower_bearing_vib_vrt  turbine_bearing_vib_vrt  \n",
       "timepoints                                                           \n",
       "1971-01-25 11:06:44               0.159366                 0.491265  \n",
       "1971-01-25 11:06:45               0.155962                 0.497242  \n",
       "1971-01-25 11:06:46               0.141150                 0.501525  \n",
       "1971-01-25 11:06:47               0.160915                 0.508167  \n",
       "1971-01-25 11:06:48               0.163011                 0.512094  \n",
       "\n",
       "[5 rows x 22 columns]"
      ]
     },
     "execution_count": 100,
     "metadata": {},
     "output_type": "execute_result"
    }
   ],
   "source": [
    "import pandas as pd\n",
    "import seaborn as sns\n",
    "\n",
    "\n",
    "df = pd.read_parquet('input_dataset-2.parquet',engine='pyarrow') \n",
    "# test dataset remove before hackaton\n",
    "print(f'Dataset shape {df.shape}')\n",
    "df.tail()\n"
   ]
  },
  {
   "cell_type": "markdown",
   "metadata": {},
   "source": [
    "## Explore data"
   ]
  },
  {
   "cell_type": "code",
   "execution_count": 101,
   "metadata": {},
   "outputs": [
    {
     "data": {
      "text/html": [
       "<div>\n",
       "<style scoped>\n",
       "    .dataframe tbody tr th:only-of-type {\n",
       "        vertical-align: middle;\n",
       "    }\n",
       "\n",
       "    .dataframe tbody tr th {\n",
       "        vertical-align: top;\n",
       "    }\n",
       "\n",
       "    .dataframe thead th {\n",
       "        text-align: right;\n",
       "    }\n",
       "</style>\n",
       "<table border=\"1\" class=\"dataframe\">\n",
       "  <thead>\n",
       "    <tr style=\"text-align: right;\">\n",
       "      <th></th>\n",
       "      <th>Unit_4_Power</th>\n",
       "      <th>Unit_4_Reactive Power</th>\n",
       "      <th>Turbine_Guide Vane Opening</th>\n",
       "      <th>Turbine_Pressure Drafttube</th>\n",
       "      <th>Turbine_Pressure Spiral Casing</th>\n",
       "      <th>Turbine_Rotational Speed</th>\n",
       "      <th>Bolt_1_Steel tmp</th>\n",
       "      <th>Bolt_1_Tensile</th>\n",
       "      <th>Bolt_2_Tensile</th>\n",
       "      <th>Bolt_3_Tensile</th>\n",
       "      <th>...</th>\n",
       "      <th>Bolt_5_Tensile</th>\n",
       "      <th>Bolt_6_Tensile</th>\n",
       "      <th>Bolt_1_Torsion</th>\n",
       "      <th>Bolt_2_Torsion</th>\n",
       "      <th>Bolt_3_Torsion</th>\n",
       "      <th>Bolt_4_Torsion</th>\n",
       "      <th>Bolt_5_Torsion</th>\n",
       "      <th>Bolt_6_Torsion</th>\n",
       "      <th>lower_bearing_vib_vrt</th>\n",
       "      <th>turbine_bearing_vib_vrt</th>\n",
       "    </tr>\n",
       "  </thead>\n",
       "  <tbody>\n",
       "    <tr>\n",
       "      <th>count</th>\n",
       "      <td>1.750000e+06</td>\n",
       "      <td>1.750000e+06</td>\n",
       "      <td>1.750000e+06</td>\n",
       "      <td>1.750000e+06</td>\n",
       "      <td>1.750000e+06</td>\n",
       "      <td>1.750000e+06</td>\n",
       "      <td>1.750000e+06</td>\n",
       "      <td>1.750000e+06</td>\n",
       "      <td>1.750000e+06</td>\n",
       "      <td>1.750000e+06</td>\n",
       "      <td>...</td>\n",
       "      <td>1.750000e+06</td>\n",
       "      <td>1.750000e+06</td>\n",
       "      <td>1.750000e+06</td>\n",
       "      <td>1.750000e+06</td>\n",
       "      <td>1.750000e+06</td>\n",
       "      <td>1.750000e+06</td>\n",
       "      <td>1.750000e+06</td>\n",
       "      <td>1.750000e+06</td>\n",
       "      <td>1.068018e+06</td>\n",
       "      <td>1.068018e+06</td>\n",
       "    </tr>\n",
       "    <tr>\n",
       "      <th>mean</th>\n",
       "      <td>2.977542e+02</td>\n",
       "      <td>5.989380e+00</td>\n",
       "      <td>9.105910e+01</td>\n",
       "      <td>1.577165e+02</td>\n",
       "      <td>5.312681e+03</td>\n",
       "      <td>1.079521e+02</td>\n",
       "      <td>3.185047e+00</td>\n",
       "      <td>1.613279e+03</td>\n",
       "      <td>1.490365e+03</td>\n",
       "      <td>1.690256e+03</td>\n",
       "      <td>...</td>\n",
       "      <td>1.637421e+03</td>\n",
       "      <td>1.679710e+03</td>\n",
       "      <td>1.784819e+02</td>\n",
       "      <td>1.657813e+02</td>\n",
       "      <td>1.462637e+02</td>\n",
       "      <td>2.257179e+02</td>\n",
       "      <td>2.986768e+02</td>\n",
       "      <td>1.618114e+02</td>\n",
       "      <td>1.454601e-01</td>\n",
       "      <td>4.567642e-01</td>\n",
       "    </tr>\n",
       "    <tr>\n",
       "      <th>std</th>\n",
       "      <td>3.387414e+01</td>\n",
       "      <td>8.155810e+00</td>\n",
       "      <td>8.714153e+00</td>\n",
       "      <td>1.909088e+01</td>\n",
       "      <td>2.990343e+01</td>\n",
       "      <td>2.902935e+00</td>\n",
       "      <td>4.765675e-01</td>\n",
       "      <td>1.063794e+01</td>\n",
       "      <td>6.480423e+00</td>\n",
       "      <td>4.674528e+00</td>\n",
       "      <td>...</td>\n",
       "      <td>2.007034e+00</td>\n",
       "      <td>4.540256e+00</td>\n",
       "      <td>2.019696e+00</td>\n",
       "      <td>4.113352e+00</td>\n",
       "      <td>2.145015e-01</td>\n",
       "      <td>2.001803e-01</td>\n",
       "      <td>7.708676e-01</td>\n",
       "      <td>3.447038e-01</td>\n",
       "      <td>2.508660e-02</td>\n",
       "      <td>2.421547e-01</td>\n",
       "    </tr>\n",
       "    <tr>\n",
       "      <th>min</th>\n",
       "      <td>0.000000e+00</td>\n",
       "      <td>-3.811665e+01</td>\n",
       "      <td>0.000000e+00</td>\n",
       "      <td>1.353587e+02</td>\n",
       "      <td>3.621803e+03</td>\n",
       "      <td>6.264306e-01</td>\n",
       "      <td>2.402152e+00</td>\n",
       "      <td>1.522557e+03</td>\n",
       "      <td>1.425511e+03</td>\n",
       "      <td>1.665702e+03</td>\n",
       "      <td>...</td>\n",
       "      <td>1.587784e+03</td>\n",
       "      <td>1.608899e+03</td>\n",
       "      <td>1.753436e+02</td>\n",
       "      <td>1.629430e+02</td>\n",
       "      <td>1.457152e+02</td>\n",
       "      <td>2.243099e+02</td>\n",
       "      <td>2.977115e+02</td>\n",
       "      <td>1.608971e+02</td>\n",
       "      <td>5.138796e-02</td>\n",
       "      <td>1.300494e-01</td>\n",
       "    </tr>\n",
       "    <tr>\n",
       "      <th>25%</th>\n",
       "      <td>3.069059e+02</td>\n",
       "      <td>0.000000e+00</td>\n",
       "      <td>9.331226e+01</td>\n",
       "      <td>1.488042e+02</td>\n",
       "      <td>5.298511e+03</td>\n",
       "      <td>1.080113e+02</td>\n",
       "      <td>2.805074e+00</td>\n",
       "      <td>1.604473e+03</td>\n",
       "      <td>1.484862e+03</td>\n",
       "      <td>1.686002e+03</td>\n",
       "      <td>...</td>\n",
       "      <td>1.636916e+03</td>\n",
       "      <td>1.676754e+03</td>\n",
       "      <td>1.768119e+02</td>\n",
       "      <td>1.632180e+02</td>\n",
       "      <td>1.460956e+02</td>\n",
       "      <td>2.256090e+02</td>\n",
       "      <td>2.980816e+02</td>\n",
       "      <td>1.616467e+02</td>\n",
       "      <td>1.363742e-01</td>\n",
       "      <td>4.458940e-01</td>\n",
       "    </tr>\n",
       "    <tr>\n",
       "      <th>50%</th>\n",
       "      <td>3.098457e+02</td>\n",
       "      <td>6.300167e+00</td>\n",
       "      <td>9.404115e+01</td>\n",
       "      <td>1.516418e+02</td>\n",
       "      <td>5.303462e+03</td>\n",
       "      <td>1.080553e+02</td>\n",
       "      <td>3.176576e+00</td>\n",
       "      <td>1.611077e+03</td>\n",
       "      <td>1.489436e+03</td>\n",
       "      <td>1.689645e+03</td>\n",
       "      <td>...</td>\n",
       "      <td>1.637458e+03</td>\n",
       "      <td>1.677958e+03</td>\n",
       "      <td>1.783134e+02</td>\n",
       "      <td>1.642139e+02</td>\n",
       "      <td>1.463355e+02</td>\n",
       "      <td>2.257666e+02</td>\n",
       "      <td>2.985405e+02</td>\n",
       "      <td>1.618121e+02</td>\n",
       "      <td>1.467246e-01</td>\n",
       "      <td>4.788169e-01</td>\n",
       "    </tr>\n",
       "    <tr>\n",
       "      <th>75%</th>\n",
       "      <td>3.112799e+02</td>\n",
       "      <td>1.117088e+01</td>\n",
       "      <td>9.448438e+01</td>\n",
       "      <td>1.566876e+02</td>\n",
       "      <td>5.316882e+03</td>\n",
       "      <td>1.080889e+02</td>\n",
       "      <td>3.505450e+00</td>\n",
       "      <td>1.618607e+03</td>\n",
       "      <td>1.493730e+03</td>\n",
       "      <td>1.692938e+03</td>\n",
       "      <td>...</td>\n",
       "      <td>1.637769e+03</td>\n",
       "      <td>1.681526e+03</td>\n",
       "      <td>1.796520e+02</td>\n",
       "      <td>1.655471e+02</td>\n",
       "      <td>1.464563e+02</td>\n",
       "      <td>2.258674e+02</td>\n",
       "      <td>2.990896e+02</td>\n",
       "      <td>1.620740e+02</td>\n",
       "      <td>1.555545e-01</td>\n",
       "      <td>4.995086e-01</td>\n",
       "    </tr>\n",
       "    <tr>\n",
       "      <th>max</th>\n",
       "      <td>3.233023e+02</td>\n",
       "      <td>4.910232e+01</td>\n",
       "      <td>9.618052e+01</td>\n",
       "      <td>2.734938e+02</td>\n",
       "      <td>5.512772e+03</td>\n",
       "      <td>1.083688e+02</td>\n",
       "      <td>4.611985e+00</td>\n",
       "      <td>1.640510e+03</td>\n",
       "      <td>1.505455e+03</td>\n",
       "      <td>1.702324e+03</td>\n",
       "      <td>...</td>\n",
       "      <td>1.642896e+03</td>\n",
       "      <td>1.694804e+03</td>\n",
       "      <td>1.834105e+02</td>\n",
       "      <td>1.788814e+02</td>\n",
       "      <td>1.471180e+02</td>\n",
       "      <td>2.260519e+02</td>\n",
       "      <td>3.012224e+02</td>\n",
       "      <td>1.629766e+02</td>\n",
       "      <td>1.355756e+00</td>\n",
       "      <td>5.316383e+01</td>\n",
       "    </tr>\n",
       "  </tbody>\n",
       "</table>\n",
       "<p>8 rows × 21 columns</p>\n",
       "</div>"
      ],
      "text/plain": [
       "       Unit_4_Power  Unit_4_Reactive Power  Turbine_Guide Vane Opening  \\\n",
       "count  1.750000e+06           1.750000e+06                1.750000e+06   \n",
       "mean   2.977542e+02           5.989380e+00                9.105910e+01   \n",
       "std    3.387414e+01           8.155810e+00                8.714153e+00   \n",
       "min    0.000000e+00          -3.811665e+01                0.000000e+00   \n",
       "25%    3.069059e+02           0.000000e+00                9.331226e+01   \n",
       "50%    3.098457e+02           6.300167e+00                9.404115e+01   \n",
       "75%    3.112799e+02           1.117088e+01                9.448438e+01   \n",
       "max    3.233023e+02           4.910232e+01                9.618052e+01   \n",
       "\n",
       "       Turbine_Pressure Drafttube  Turbine_Pressure Spiral Casing  \\\n",
       "count                1.750000e+06                    1.750000e+06   \n",
       "mean                 1.577165e+02                    5.312681e+03   \n",
       "std                  1.909088e+01                    2.990343e+01   \n",
       "min                  1.353587e+02                    3.621803e+03   \n",
       "25%                  1.488042e+02                    5.298511e+03   \n",
       "50%                  1.516418e+02                    5.303462e+03   \n",
       "75%                  1.566876e+02                    5.316882e+03   \n",
       "max                  2.734938e+02                    5.512772e+03   \n",
       "\n",
       "       Turbine_Rotational Speed  Bolt_1_Steel tmp  Bolt_1_Tensile  \\\n",
       "count              1.750000e+06      1.750000e+06    1.750000e+06   \n",
       "mean               1.079521e+02      3.185047e+00    1.613279e+03   \n",
       "std                2.902935e+00      4.765675e-01    1.063794e+01   \n",
       "min                6.264306e-01      2.402152e+00    1.522557e+03   \n",
       "25%                1.080113e+02      2.805074e+00    1.604473e+03   \n",
       "50%                1.080553e+02      3.176576e+00    1.611077e+03   \n",
       "75%                1.080889e+02      3.505450e+00    1.618607e+03   \n",
       "max                1.083688e+02      4.611985e+00    1.640510e+03   \n",
       "\n",
       "       Bolt_2_Tensile  Bolt_3_Tensile  ...  Bolt_5_Tensile  Bolt_6_Tensile  \\\n",
       "count    1.750000e+06    1.750000e+06  ...    1.750000e+06    1.750000e+06   \n",
       "mean     1.490365e+03    1.690256e+03  ...    1.637421e+03    1.679710e+03   \n",
       "std      6.480423e+00    4.674528e+00  ...    2.007034e+00    4.540256e+00   \n",
       "min      1.425511e+03    1.665702e+03  ...    1.587784e+03    1.608899e+03   \n",
       "25%      1.484862e+03    1.686002e+03  ...    1.636916e+03    1.676754e+03   \n",
       "50%      1.489436e+03    1.689645e+03  ...    1.637458e+03    1.677958e+03   \n",
       "75%      1.493730e+03    1.692938e+03  ...    1.637769e+03    1.681526e+03   \n",
       "max      1.505455e+03    1.702324e+03  ...    1.642896e+03    1.694804e+03   \n",
       "\n",
       "       Bolt_1_Torsion  Bolt_2_Torsion  Bolt_3_Torsion  Bolt_4_Torsion  \\\n",
       "count    1.750000e+06    1.750000e+06    1.750000e+06    1.750000e+06   \n",
       "mean     1.784819e+02    1.657813e+02    1.462637e+02    2.257179e+02   \n",
       "std      2.019696e+00    4.113352e+00    2.145015e-01    2.001803e-01   \n",
       "min      1.753436e+02    1.629430e+02    1.457152e+02    2.243099e+02   \n",
       "25%      1.768119e+02    1.632180e+02    1.460956e+02    2.256090e+02   \n",
       "50%      1.783134e+02    1.642139e+02    1.463355e+02    2.257666e+02   \n",
       "75%      1.796520e+02    1.655471e+02    1.464563e+02    2.258674e+02   \n",
       "max      1.834105e+02    1.788814e+02    1.471180e+02    2.260519e+02   \n",
       "\n",
       "       Bolt_5_Torsion  Bolt_6_Torsion  lower_bearing_vib_vrt  \\\n",
       "count    1.750000e+06    1.750000e+06           1.068018e+06   \n",
       "mean     2.986768e+02    1.618114e+02           1.454601e-01   \n",
       "std      7.708676e-01    3.447038e-01           2.508660e-02   \n",
       "min      2.977115e+02    1.608971e+02           5.138796e-02   \n",
       "25%      2.980816e+02    1.616467e+02           1.363742e-01   \n",
       "50%      2.985405e+02    1.618121e+02           1.467246e-01   \n",
       "75%      2.990896e+02    1.620740e+02           1.555545e-01   \n",
       "max      3.012224e+02    1.629766e+02           1.355756e+00   \n",
       "\n",
       "       turbine_bearing_vib_vrt  \n",
       "count             1.068018e+06  \n",
       "mean              4.567642e-01  \n",
       "std               2.421547e-01  \n",
       "min               1.300494e-01  \n",
       "25%               4.458940e-01  \n",
       "50%               4.788169e-01  \n",
       "75%               4.995086e-01  \n",
       "max               5.316383e+01  \n",
       "\n",
       "[8 rows x 21 columns]"
      ]
     },
     "execution_count": 101,
     "metadata": {},
     "output_type": "execute_result"
    }
   ],
   "source": [
    "df.describe()"
   ]
  },
  {
   "cell_type": "code",
   "execution_count": 107,
   "metadata": {},
   "outputs": [
    {
     "data": {
      "text/plain": [
       "Unit_4_Power                      124087\n",
       "Unit_4_Reactive Power             124087\n",
       "Turbine_Guide Vane Opening        124087\n",
       "Turbine_Pressure Drafttube        124087\n",
       "Turbine_Pressure Spiral Casing    124087\n",
       "Turbine_Rotational Speed          124087\n",
       "mode                                   0\n",
       "Bolt_1_Steel tmp                  124087\n",
       "Bolt_1_Tensile                    124087\n",
       "Bolt_2_Tensile                    124087\n",
       "Bolt_3_Tensile                    124087\n",
       "Bolt_4_Tensile                    124087\n",
       "Bolt_5_Tensile                    124087\n",
       "Bolt_6_Tensile                    124087\n",
       "Bolt_1_Torsion                    124087\n",
       "Bolt_2_Torsion                    124087\n",
       "Bolt_3_Torsion                    124087\n",
       "Bolt_4_Torsion                    124087\n",
       "Bolt_5_Torsion                    124087\n",
       "Bolt_6_Torsion                    124087\n",
       "lower_bearing_vib_vrt             806069\n",
       "turbine_bearing_vib_vrt           806069\n",
       "dtype: int64"
      ]
     },
     "execution_count": 107,
     "metadata": {},
     "output_type": "execute_result"
    }
   ],
   "source": [
    "df.isnull().sum()"
   ]
  },
  {
   "cell_type": "code",
   "execution_count": 102,
   "metadata": {},
   "outputs": [
    {
     "name": "stdout",
     "output_type": "stream",
     "text": [
      "<class 'pandas.core.frame.DataFrame'>\n",
      "DatetimeIndex: 1874087 entries, 1970-12-19 09:51:44 to 1971-01-25 11:06:48\n",
      "Data columns (total 22 columns):\n",
      " #   Column                          Dtype  \n",
      "---  ------                          -----  \n",
      " 0   Unit_4_Power                    float64\n",
      " 1   Unit_4_Reactive Power           float64\n",
      " 2   Turbine_Guide Vane Opening      float64\n",
      " 3   Turbine_Pressure Drafttube      float64\n",
      " 4   Turbine_Pressure Spiral Casing  float64\n",
      " 5   Turbine_Rotational Speed        float64\n",
      " 6   mode                            object \n",
      " 7   Bolt_1_Steel tmp                float64\n",
      " 8   Bolt_1_Tensile                  float64\n",
      " 9   Bolt_2_Tensile                  float64\n",
      " 10  Bolt_3_Tensile                  float64\n",
      " 11  Bolt_4_Tensile                  float64\n",
      " 12  Bolt_5_Tensile                  float64\n",
      " 13  Bolt_6_Tensile                  float64\n",
      " 14  Bolt_1_Torsion                  float64\n",
      " 15  Bolt_2_Torsion                  float64\n",
      " 16  Bolt_3_Torsion                  float64\n",
      " 17  Bolt_4_Torsion                  float64\n",
      " 18  Bolt_5_Torsion                  float64\n",
      " 19  Bolt_6_Torsion                  float64\n",
      " 20  lower_bearing_vib_vrt           float64\n",
      " 21  turbine_bearing_vib_vrt         float64\n",
      "dtypes: float64(21), object(1)\n",
      "memory usage: 328.9+ MB\n"
     ]
    }
   ],
   "source": [
    "df.info()"
   ]
  },
  {
   "cell_type": "code",
   "execution_count": 103,
   "metadata": {},
   "outputs": [],
   "source": [
    "# to categorical\n",
    "df['mode'] = df['mode'].astype(\"category\")"
   ]
  },
  {
   "cell_type": "code",
   "execution_count": 104,
   "metadata": {},
   "outputs": [
    {
     "name": "stdout",
     "output_type": "stream",
     "text": [
      "<class 'pandas.core.frame.DataFrame'>\n",
      "DatetimeIndex: 1874087 entries, 1970-12-19 09:51:44 to 1971-01-25 11:06:48\n",
      "Data columns (total 22 columns):\n",
      " #   Column                          Dtype   \n",
      "---  ------                          -----   \n",
      " 0   Unit_4_Power                    float64 \n",
      " 1   Unit_4_Reactive Power           float64 \n",
      " 2   Turbine_Guide Vane Opening      float64 \n",
      " 3   Turbine_Pressure Drafttube      float64 \n",
      " 4   Turbine_Pressure Spiral Casing  float64 \n",
      " 5   Turbine_Rotational Speed        float64 \n",
      " 6   mode                            category\n",
      " 7   Bolt_1_Steel tmp                float64 \n",
      " 8   Bolt_1_Tensile                  float64 \n",
      " 9   Bolt_2_Tensile                  float64 \n",
      " 10  Bolt_3_Tensile                  float64 \n",
      " 11  Bolt_4_Tensile                  float64 \n",
      " 12  Bolt_5_Tensile                  float64 \n",
      " 13  Bolt_6_Tensile                  float64 \n",
      " 14  Bolt_1_Torsion                  float64 \n",
      " 15  Bolt_2_Torsion                  float64 \n",
      " 16  Bolt_3_Torsion                  float64 \n",
      " 17  Bolt_4_Torsion                  float64 \n",
      " 18  Bolt_5_Torsion                  float64 \n",
      " 19  Bolt_6_Torsion                  float64 \n",
      " 20  lower_bearing_vib_vrt           float64 \n",
      " 21  turbine_bearing_vib_vrt         float64 \n",
      "dtypes: category(1), float64(21)\n",
      "memory usage: 316.3 MB\n"
     ]
    }
   ],
   "source": [
    "df.info()"
   ]
  },
  {
   "cell_type": "code",
   "execution_count": null,
   "metadata": {},
   "outputs": [],
   "source": [
    "df.tail()"
   ]
  },
  {
   "cell_type": "code",
   "execution_count": 105,
   "metadata": {},
   "outputs": [
    {
     "data": {
      "text/html": [
       "<div>\n",
       "<style scoped>\n",
       "    .dataframe tbody tr th:only-of-type {\n",
       "        vertical-align: middle;\n",
       "    }\n",
       "\n",
       "    .dataframe tbody tr th {\n",
       "        vertical-align: top;\n",
       "    }\n",
       "\n",
       "    .dataframe thead th {\n",
       "        text-align: right;\n",
       "    }\n",
       "</style>\n",
       "<table border=\"1\" class=\"dataframe\">\n",
       "  <thead>\n",
       "    <tr style=\"text-align: right;\">\n",
       "      <th></th>\n",
       "      <th>Unit_4_Power</th>\n",
       "      <th>Unit_4_Reactive Power</th>\n",
       "      <th>Turbine_Guide Vane Opening</th>\n",
       "      <th>Turbine_Pressure Drafttube</th>\n",
       "      <th>Turbine_Pressure Spiral Casing</th>\n",
       "      <th>Turbine_Rotational Speed</th>\n",
       "      <th>mode</th>\n",
       "      <th>Bolt_1_Steel tmp</th>\n",
       "      <th>Bolt_1_Tensile</th>\n",
       "      <th>Bolt_2_Tensile</th>\n",
       "      <th>...</th>\n",
       "      <th>Bolt_5_Tensile</th>\n",
       "      <th>Bolt_6_Tensile</th>\n",
       "      <th>Bolt_1_Torsion</th>\n",
       "      <th>Bolt_2_Torsion</th>\n",
       "      <th>Bolt_3_Torsion</th>\n",
       "      <th>Bolt_4_Torsion</th>\n",
       "      <th>Bolt_5_Torsion</th>\n",
       "      <th>Bolt_6_Torsion</th>\n",
       "      <th>lower_bearing_vib_vrt</th>\n",
       "      <th>turbine_bearing_vib_vrt</th>\n",
       "    </tr>\n",
       "    <tr>\n",
       "      <th>timepoints</th>\n",
       "      <th></th>\n",
       "      <th></th>\n",
       "      <th></th>\n",
       "      <th></th>\n",
       "      <th></th>\n",
       "      <th></th>\n",
       "      <th></th>\n",
       "      <th></th>\n",
       "      <th></th>\n",
       "      <th></th>\n",
       "      <th></th>\n",
       "      <th></th>\n",
       "      <th></th>\n",
       "      <th></th>\n",
       "      <th></th>\n",
       "      <th></th>\n",
       "      <th></th>\n",
       "      <th></th>\n",
       "      <th></th>\n",
       "      <th></th>\n",
       "      <th></th>\n",
       "    </tr>\n",
       "  </thead>\n",
       "  <tbody>\n",
       "  </tbody>\n",
       "</table>\n",
       "<p>0 rows × 22 columns</p>\n",
       "</div>"
      ],
      "text/plain": [
       "Empty DataFrame\n",
       "Columns: [Unit_4_Power, Unit_4_Reactive Power, Turbine_Guide Vane Opening, Turbine_Pressure Drafttube, Turbine_Pressure Spiral Casing, Turbine_Rotational Speed, mode, Bolt_1_Steel tmp, Bolt_1_Tensile, Bolt_2_Tensile, Bolt_3_Tensile, Bolt_4_Tensile, Bolt_5_Tensile, Bolt_6_Tensile, Bolt_1_Torsion, Bolt_2_Torsion, Bolt_3_Torsion, Bolt_4_Torsion, Bolt_5_Torsion, Bolt_6_Torsion, lower_bearing_vib_vrt, turbine_bearing_vib_vrt]\n",
       "Index: []\n",
       "\n",
       "[0 rows x 22 columns]"
      ]
     },
     "execution_count": 105,
     "metadata": {},
     "output_type": "execute_result"
    }
   ],
   "source": [
    "# check out duplicates \n",
    "df[df.duplicated()]"
   ]
  },
  {
   "cell_type": "code",
   "execution_count": 109,
   "metadata": {},
   "outputs": [
    {
     "data": {
      "text/plain": [
       "['operation', 'start']\n",
       "Categories (2, object): ['operation', 'start']"
      ]
     },
     "execution_count": 109,
     "metadata": {},
     "output_type": "execute_result"
    }
   ],
   "source": [
    "df['mode'].unique()"
   ]
  },
  {
   "cell_type": "code",
   "execution_count": 106,
   "metadata": {},
   "outputs": [
    {
     "data": {
      "text/plain": [
       "operation    1868659\n",
       "start           5428\n",
       "Name: mode, dtype: int64"
      ]
     },
     "execution_count": 106,
     "metadata": {},
     "output_type": "execute_result"
    }
   ],
   "source": [
    "# check the balance\n",
    "df['mode'].value_counts()"
   ]
  },
  {
   "cell_type": "code",
   "execution_count": 118,
   "metadata": {},
   "outputs": [],
   "source": [
    "dff = df.sample(n=100000)"
   ]
  },
  {
   "cell_type": "code",
   "execution_count": 119,
   "metadata": {},
   "outputs": [
    {
     "data": {
      "text/plain": [
       "operation    99725\n",
       "start          275\n",
       "Name: mode, dtype: int64"
      ]
     },
     "execution_count": 119,
     "metadata": {},
     "output_type": "execute_result"
    }
   ],
   "source": [
    "dff['mode'].value_counts()"
   ]
  },
  {
   "cell_type": "markdown",
   "metadata": {},
   "source": [
    "## Visualization"
   ]
  },
  {
   "cell_type": "code",
   "execution_count": null,
   "metadata": {},
   "outputs": [],
   "source": [
    "sns.scatterplot(dff['mode'])"
   ]
  },
  {
   "cell_type": "code",
   "execution_count": 122,
   "metadata": {},
   "outputs": [],
   "source": [
    "sns.pairplot(\n",
    "    data=dff,\n",
    "    # hue='mode',\n",
    "    height=4)"
   ]
  },
  {
   "cell_type": "code",
   "execution_count": null,
   "metadata": {},
   "outputs": [],
   "source": [
    "sns.countplot(x=dff['mode'])"
   ]
  },
  {
   "cell_type": "code",
   "execution_count": null,
   "metadata": {},
   "outputs": [],
   "source": [
    "import matplotlib.pyplot as plt\n",
    "plt.figure(figsize=(17,9))\n",
    "plt.title('Comparison between various species based on sapel length and width')\n",
    "sns.scatterplot(\n",
    "    x=df['sepal_length'],\n",
    "    y=df['sepal_width'],\n",
    "    hue =df['species'],\n",
    "    s=50)"
   ]
  },
  {
   "cell_type": "code",
   "execution_count": null,
   "metadata": {},
   "outputs": [],
   "source": [
    "plt.figure(figsize=(16,9))\n",
    "plt.title('Comparison between various species based on petal lenght and width')\n",
    "sns.scatterplot(\n",
    "    x=df['petal_length'], \n",
    "    y=df['petal_width'], \n",
    "    hue = df['species'], \n",
    "    s= 50)"
   ]
  },
  {
   "cell_type": "code",
   "execution_count": null,
   "metadata": {},
   "outputs": [],
   "source": [
    "sns.heatmap(\n",
    "    df.corr(),\n",
    "    annot=True)"
   ]
  },
  {
   "cell_type": "code",
   "execution_count": null,
   "metadata": {},
   "outputs": [],
   "source": [
    "# Checking Mean & Median Values for each species\n",
    "\n",
    "df.groupby('species').agg(['mean', 'median'])"
   ]
  },
  {
   "cell_type": "code",
   "execution_count": null,
   "metadata": {},
   "outputs": [],
   "source": [
    "# box plots\n",
    "\n",
    "fig, axes = plt.subplots(2, 2, figsize=(16,9))\n",
    "sns.boxplot( y='petal_width', x= 'species', data=df, orient='v' , ax=axes[0, 0])\n",
    "sns.boxplot( y='petal_length', x= 'species', data=df, orient='v' , ax=axes[0, 1])\n",
    "sns.boxplot( y='sepal_length', x= 'species', data=df, orient='v' , ax=axes[1, 0])\n",
    "sns.boxplot( y='sepal_width', x= 'species', data=df, orient='v' , ax=axes[1, 1])\n",
    "plt.show()"
   ]
  },
  {
   "cell_type": "code",
   "execution_count": null,
   "metadata": {},
   "outputs": [],
   "source": [
    "fig, axes = plt.subplots(2, 2, figsize=(16,9))\n",
    "\n",
    "sns.histplot(\n",
    "    data=df,\n",
    "    x='sepal_length',\n",
    "    hue='species',\n",
    "    ax=axes[0,0],\n",
    ")\n",
    "\n",
    "sns.histplot(\n",
    "    data=df,\n",
    "    x='petal_length',\n",
    "    hue='species',\n",
    "    ax=axes[0,1],\n",
    ")\n",
    "\n",
    "sns.histplot(\n",
    "    data=df,\n",
    "    x='sepal_width',\n",
    "    hue='species',\n",
    "    ax=axes[1,0],\n",
    ")\n",
    "\n",
    "sns.histplot(\n",
    "    data=df,\n",
    "    x='petal_width',\n",
    "    hue='species',\n",
    "    ax=axes[1,1],\n",
    ")"
   ]
  },
  {
   "cell_type": "markdown",
   "metadata": {},
   "source": [
    "## Data cleaning and encoding"
   ]
  },
  {
   "cell_type": "code",
   "execution_count": null,
   "metadata": {},
   "outputs": [],
   "source": [
    "# encoding categorical\n",
    "dff = pd.get_dummies(df,columns=['species'],drop_first=False)\n"
   ]
  },
  {
   "cell_type": "code",
   "execution_count": null,
   "metadata": {},
   "outputs": [],
   "source": [
    "dff.head()"
   ]
  },
  {
   "cell_type": "markdown",
   "metadata": {},
   "source": [
    "# Model"
   ]
  },
  {
   "cell_type": "markdown",
   "metadata": {},
   "source": [
    "### Prepare data"
   ]
  },
  {
   "cell_type": "code",
   "execution_count": null,
   "metadata": {},
   "outputs": [],
   "source": [
    "from sklearn.model_selection import train_test_split\n",
    "\n",
    "y = df.pop()\n",
    "X_train, X_test, y_train, t_test = train_test_split(df, y, test_size=0.2)"
   ]
  },
  {
   "cell_type": "code",
   "execution_count": null,
   "metadata": {},
   "outputs": [],
   "source": []
  },
  {
   "cell_type": "markdown",
   "metadata": {},
   "source": [
    "### Train"
   ]
  },
  {
   "cell_type": "markdown",
   "metadata": {},
   "source": [
    "#### Simple models"
   ]
  },
  {
   "cell_type": "code",
   "execution_count": null,
   "metadata": {},
   "outputs": [],
   "source": [
    "from sklearn.linear_model import LogisticRegression\n",
    "\n",
    "model = LogisticRegression()\n",
    "\n",
    "model.fit(X_train, y_train)"
   ]
  },
  {
   "cell_type": "markdown",
   "metadata": {},
   "source": [
    "#### Ensembles"
   ]
  },
  {
   "cell_type": "code",
   "execution_count": null,
   "metadata": {},
   "outputs": [],
   "source": [
    "from sklearn.ensemble import RandomForestClassifier, GradientBoostingClassifier\n",
    "\n",
    "rf = RandomForestClassifier()\n",
    "gb = GradientBoostingClassifier()"
   ]
  },
  {
   "cell_type": "markdown",
   "metadata": {},
   "source": [
    "## Hyperparameter tuning"
   ]
  }
 ],
 "metadata": {
  "interpreter": {
   "hash": "ac4854e36283f0eefbcd922b8f20a6473fa2bfab260e4d97cf708996b04513a3"
  },
  "kernelspec": {
   "display_name": "Python 3.9.10 64-bit (windows store)",
   "language": "python",
   "name": "python3"
  },
  "language_info": {
   "codemirror_mode": {
    "name": "ipython",
    "version": 3
   },
   "file_extension": ".py",
   "mimetype": "text/x-python",
   "name": "python",
   "nbconvert_exporter": "python",
   "pygments_lexer": "ipython3",
   "version": "3.9.10"
  },
  "orig_nbformat": 4
 },
 "nbformat": 4,
 "nbformat_minor": 2
}
